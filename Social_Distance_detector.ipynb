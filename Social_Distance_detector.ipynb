{
 "cells": [
  {
   "cell_type": "code",
   "execution_count": 70,
   "metadata": {},
   "outputs": [],
   "source": [
    "from DistanceHelper.DistanceDetector import detectPeople\n",
    "from DistanceHelper.DistanceDetector import MIN_CONF\n",
    "from DistanceHelper.DistanceDetector import MIN_DISTANCE\n",
    "from DistanceHelper.DistanceDetector import NMS_THRESH\n",
    "from tqdm.notebook import tqdm\n",
    "from scipy.spatial import distance as dist\n",
    "import numpy as np\n",
    "import imutils\n",
    "import cv2\n",
    "import time"
   ]
  },
  {
   "cell_type": "code",
   "execution_count": 71,
   "metadata": {},
   "outputs": [],
   "source": [
    "videoFile = r'videos/testVideo_Trim.mp4'\n",
    "configPath = r'YOLO_DB/yolov3.cfg'\n",
    "weightsPath = r'YOLO_DB/yolov3.weights'\n",
    "net = cv2.dnn.readNetFromDarknet(configPath, weightsPath)"
   ]
  },
  {
   "cell_type": "markdown",
   "metadata": {},
   "source": [
    "## Operation Selector"
   ]
  },
  {
   "cell_type": "code",
   "execution_count": 72,
   "metadata": {},
   "outputs": [],
   "source": [
    "previewWhileProcess = True\n",
    "saveLocally = False"
   ]
  },
  {
   "cell_type": "code",
   "execution_count": 73,
   "metadata": {},
   "outputs": [
    {
     "name": "stdout",
     "output_type": "stream",
     "text": [
      "['yolo_82', 'yolo_94', 'yolo_106']\n"
     ]
    }
   ],
   "source": [
    "ln = net.getLayerNames()\n",
    "ln = [ln[i[0] - 1] for i in net.getUnconnectedOutLayers()]\n",
    "print(ln)"
   ]
  },
  {
   "cell_type": "code",
   "execution_count": 74,
   "metadata": {},
   "outputs": [
    {
     "name": "stdout",
     "output_type": "stream",
     "text": [
      "30 149\n"
     ]
    }
   ],
   "source": [
    "cam = cv2.VideoCapture(videoFile)\n",
    "fps = int(cam.get(cv2.CAP_PROP_FPS))\n",
    "totalFPS = int(cam.get(cv2.CAP_PROP_FRAME_COUNT))\n",
    "computedFps = 0\n",
    "print(fps, totalFPS)"
   ]
  },
  {
   "cell_type": "markdown",
   "metadata": {},
   "source": [
    "Saving properties"
   ]
  },
  {
   "cell_type": "code",
   "execution_count": 75,
   "metadata": {},
   "outputs": [
    {
     "name": "stdout",
     "output_type": "stream",
     "text": [
      "(1920, 1080)\n"
     ]
    }
   ],
   "source": [
    "size = (int(cam.get(cv2.CAP_PROP_FRAME_WIDTH)),int(cam.get(cv2.CAP_PROP_FRAME_HEIGHT)))\n",
    "print(size)\n",
    "fourcc =cv2.VideoWriter_fourcc(*'XVID')\n",
    "writer = cv2.VideoWriter('videos/outputX.mp4', fourcc, 10, size, True) "
   ]
  },
  {
   "cell_type": "code",
   "execution_count": 76,
   "metadata": {},
   "outputs": [
    {
     "name": "stdout",
     "output_type": "stream",
     "text": [
      "80\n",
      "0\n"
     ]
    }
   ],
   "source": [
    "LABELS = []\n",
    "with open(\"YOLO_DB/coco.names\", 'rt') as f:\n",
    "    LABELS = f.read().rstrip(\"\\n\").split('\\n')\n",
    "print(len(LABELS))\n",
    "print(LABELS.index(\"person\"))"
   ]
  },
  {
   "cell_type": "code",
   "execution_count": 77,
   "metadata": {},
   "outputs": [],
   "source": [
    "color_violation = (0,0, 255)\n",
    "color_safe = (0,255,0)"
   ]
  },
  {
   "cell_type": "code",
   "execution_count": 78,
   "metadata": {},
   "outputs": [
    {
     "data": {
      "application/vnd.jupyter.widget-view+json": {
       "model_id": "f9b12ac2c3c748d28ed41da34ad5458d",
       "version_major": 2,
       "version_minor": 0
      },
      "text/plain": [
       "Progress:   0%|          | 0/149 [00:00<?, ?it/s]"
      ]
     },
     "metadata": {},
     "output_type": "display_data"
    }
   ],
   "source": [
    "pbar = tqdm(total=totalFPS, desc=\"Progress\") #progressBar"
   ]
  },
  {
   "cell_type": "code",
   "execution_count": 79,
   "metadata": {},
   "outputs": [
    {
     "name": "stdout",
     "output_type": "stream",
     "text": [
      "[INFO] init Process..\n",
      "[INFO] EOF Process..\n"
     ]
    }
   ],
   "source": [
    "print(\"[INFO] init Process..\")\n",
    "while True:\n",
    "    success, frame = cam.read()\n",
    "    \n",
    "    if not success:\n",
    "        print(\"[INFO] EOF Process..\")\n",
    "        break\n",
    "        \n",
    "    if not saveLocally:\n",
    "        frame = imutils.resize(frame, width=700)\n",
    "    results = detectPeople(frame, net, ln, personIdx=LABELS.index('person'))\n",
    "\n",
    "\n",
    "    voilation = set()\n",
    "\n",
    "    if len(results) >=2:\n",
    "        centroids = np.array([r[2] for r in results])\n",
    "        distanceMap = dist.cdist(centroids, centroids, metric = \"euclidean\")\n",
    "\n",
    "#   print(distanceMap.shape)\n",
    "        for i in range(distanceMap.shape[0]):\n",
    "            for j in range(i+1, distanceMap.shape[1]):\n",
    "\n",
    "                #if distance between 2person is less minDistance\n",
    "                if distanceMap[i, j] < MIN_DISTANCE:\n",
    "                    voilation.add(i)\n",
    "                    voilation.add(j)\n",
    "\n",
    "\n",
    "        #Loop over results and make visualizations\n",
    "    for (i, (prob, bbox, centroid)) in enumerate(results):\n",
    "        (startX, startY, endX, endY)  = bbox\n",
    "        (cX, cY) = centroid\n",
    "\n",
    "        color = color_safe\n",
    "\n",
    "        if i in voilation:\n",
    "            color = color_violation\n",
    "\n",
    "        cv2.rectangle(frame, (startX, startY), (endX, endY), color, 2)\n",
    "        cv2.circle(frame, (cX, cY), 5, color, 1)\n",
    "    \n",
    "    #should be display\n",
    "    if previewWhileProcess:\n",
    "        cv2.imshow(\"Social Distance\", frame)\n",
    "    key = cv2.waitKey(1) & 0xFF\n",
    "    # if the `q` key was pressed, break from the loop\n",
    "    if key == ord(\"q\"):\n",
    "        break\n",
    "    \n",
    "    if saveLocally:\n",
    "        writer.write(frame)\n",
    "        \n",
    "    # \n",
    "    computedFps +=1\n",
    "    pbar.update(1)\n",
    "\n",
    "pbar.close()\n",
    "writer.release()     \n",
    "cv2.destroyAllWindows()\n"
   ]
  },
  {
   "cell_type": "code",
   "execution_count": null,
   "metadata": {},
   "outputs": [],
   "source": []
  },
  {
   "cell_type": "code",
   "execution_count": null,
   "metadata": {},
   "outputs": [],
   "source": []
  }
 ],
 "metadata": {
  "kernelspec": {
   "display_name": "Python 3",
   "language": "python",
   "name": "python3"
  },
  "language_info": {
   "codemirror_mode": {
    "name": "ipython",
    "version": 3
   },
   "file_extension": ".py",
   "mimetype": "text/x-python",
   "name": "python",
   "nbconvert_exporter": "python",
   "pygments_lexer": "ipython3",
   "version": "3.8.5"
  }
 },
 "nbformat": 4,
 "nbformat_minor": 4
}
