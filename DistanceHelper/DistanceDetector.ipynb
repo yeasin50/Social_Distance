{
 "cells": [
  {
   "cell_type": "markdown",
   "metadata": {},
   "source": [
    "# OpenCV Social Distancing Detector"
   ]
  },
  {
   "cell_type": "code",
   "execution_count": 1,
   "metadata": {},
   "outputs": [],
   "source": [
    "# base path to YOLO directory\n",
    "MODEL_PATH = \"YOLO_DB\"\n",
    "\n",
    "# threshold and non-maxima suppression\n",
    "MIN_CONF = 0.3\n",
    "NMS_THRESH = 0.3 "
   ]
  },
  {
   "cell_type": "code",
   "execution_count": 5,
   "metadata": {},
   "outputs": [],
   "source": [
    "#NVIDIA CUDA GPU should be used\n",
    "USE_GPU = False\n",
    "# safe distance in pixel\n",
    "MIN_DISTANCE = 50"
   ]
  },
  {
   "cell_type": "code",
   "execution_count": 6,
   "metadata": {},
   "outputs": [],
   "source": [
    "import numpy as np\n",
    "import cv2"
   ]
  },
  {
   "cell_type": "code",
   "execution_count": 8,
   "metadata": {},
   "outputs": [],
   "source": [
    "def detectPeople(image, net, layerName, personIdx=0):\n",
    "    height, weidth,_ = image.shape\n",
    "    results = []\n",
    "    \n",
    "    blob = cv2.dnn.blobFromImage(image, 1/255.0,(416, 416), swapRB= True, crop= False)\n",
    "    net.setInput(blob)\n",
    "    layerOutputs = net.forward(layerName)\n",
    "    \n",
    "    boxes = []\n",
    "    centroids = []\n",
    "    confidences = []\n",
    "    \n",
    "    for output in layerOutputs:\n",
    "        for detection in output:\n",
    "            scores = detection[5:]\n",
    "            clsID = np.argmax(scores)\n",
    "            conf = scores[clsID]\n",
    "            \n",
    "            if clsID== personIdx and conf > MIN_CONF:\n",
    "                box = detection[0:4] * np.array([weidth, height, weidth, height])\n",
    "                (cX, cY, w, h)= box.astype(\"int\")\n",
    "                \n",
    "                #left corner\n",
    "                x = int(cX - (w/2))\n",
    "                y = int(cY - (h/2))\n",
    "                \n",
    "                boxes.append([x, y, int(w), int(h)])\n",
    "                centroids.append(cX, xY)\n",
    "                confidences.append(float(conf))\n",
    "    \n",
    "    \n",
    "    # apply non-maxima suppression to suppress weak, overlapping\n",
    "    bboxes = cv2.dnn.NMSBoxes(boxes, confidences, MIN_CONF, NMS_THRESH)\n",
    "    \n",
    "    if len(bboxes) > 0:\n",
    "        for i in bboxes.flatten():\n",
    "            #bounding box coordinates\n",
    "            (x, y) = (boxes[i][0], boxes[i][1])\n",
    "            (w, h) = (boxes[i][2], boxes[i][3])\n",
    "            r = (confidences[i], (x, y, x+w, y+h), centroids[i])\n",
    "            results.append(r)\n",
    "    return results"
   ]
  },
  {
   "cell_type": "code",
   "execution_count": null,
   "metadata": {},
   "outputs": [],
   "source": []
  }
 ],
 "metadata": {
  "kernelspec": {
   "display_name": "Python 3",
   "language": "python",
   "name": "python3"
  },
  "language_info": {
   "codemirror_mode": {
    "name": "ipython",
    "version": 3
   },
   "file_extension": ".py",
   "mimetype": "text/x-python",
   "name": "python",
   "nbconvert_exporter": "python",
   "pygments_lexer": "ipython3",
   "version": "3.8.5"
  }
 },
 "nbformat": 4,
 "nbformat_minor": 4
}
